{
 "cells": [
  {
   "cell_type": "markdown",
   "metadata": {},
   "source": [
    "CSDA 1050 Sprint 1-What is the marginal difference in rent price between tenured renters and new renters in Toronto?\n",
    "\n",
    "\n",
    "Nickolas Lal "
   ]
  },
  {
   "cell_type": "code",
   "execution_count": 88,
   "metadata": {},
   "outputs": [],
   "source": [
    "# Loading Libraries\n",
    "import pandas as pd\n",
    "import numpy as np\n",
    "import xlrd\n",
    "import matplotlib.pyplot as plt\n",
    "import seaborn as sns\n",
    "%matplotlib inline"
   ]
  },
  {
   "cell_type": "code",
   "execution_count": 89,
   "metadata": {},
   "outputs": [
    {
     "data": {
      "text/plain": [
       "'C:\\\\Users\\\\nick\\\\Documents\\\\Certificate in Big Data Analytics and Certificate in Predictive Analytics\\\\Certificate in Predictive Analytics\\\\CSDA 1050\\\\Datasets'"
      ]
     },
     "execution_count": 89,
     "metadata": {},
     "output_type": "execute_result"
    }
   ],
   "source": [
    "pwd"
   ]
  },
  {
   "cell_type": "code",
   "execution_count": 90,
   "metadata": {},
   "outputs": [
    {
     "name": "stdout",
     "output_type": "stream",
     "text": [
      "C:\\Users\\nick\\Documents\\Certificate in Big Data Analytics and Certificate in Predictive Analytics\\Certificate in Predictive Analytics\\CSDA 1050\\Datasets\n"
     ]
    }
   ],
   "source": [
    "cd C:\\Users\\nick\\Documents\\Certificate in Big Data Analytics and Certificate in Predictive Analytics\\Certificate in Predictive Analytics\\CSDA 1050\\Datasets"
   ]
  },
  {
   "cell_type": "code",
   "execution_count": 91,
   "metadata": {},
   "outputs": [
    {
     "name": "stdout",
     "output_type": "stream",
     "text": [
      "   Year          Age group                    UOM Average Income Median Income\n",
      "0  2013  16 years and over  2017 constant dollars    $44,900.00    $30,900.00 \n",
      "1  2014  16 years and over  2017 constant dollars    $45,700.00    $31,600.00 \n",
      "2  2015  16 years and over  2017 constant dollars    $46,100.00    $30,500.00 \n",
      "3  2016  16 years and over  2017 constant dollars    $47,600.00    $31,500.00 \n",
      "4  2017  16 years and over  2017 constant dollars    $48,500.00    $33,600.00 \n"
     ]
    }
   ],
   "source": [
    "#Loading the various CSV data files\n",
    "\n",
    "Income = pd.read_csv(\"Toronto Income.csv\")\n",
    "print(Income)\n"
   ]
  },
  {
   "cell_type": "code",
   "execution_count": 92,
   "metadata": {},
   "outputs": [
    {
     "name": "stdout",
     "output_type": "stream",
     "text": [
      "    Year  Guideline  Inflation Rate\n",
      "0   1991        5.4            3.75\n",
      "1   1992        6.0            2.17\n",
      "2   1993        4.9            1.65\n",
      "3   1994        3.2            0.23\n",
      "4   1995        2.9            1.74\n",
      "5   1996        2.8            2.16\n",
      "6   1997        2.8            0.78\n",
      "7   1998        3.0            1.00\n",
      "8   1999        3.0            2.63\n",
      "9   2000        2.6            3.20\n",
      "10  2001        2.9            0.72\n",
      "11  2002        3.9            3.80\n",
      "12  2003        2.9            2.08\n",
      "13  2004        2.9            2.13\n",
      "14  2005        1.5            2.09\n",
      "15  2006        2.1            1.67\n",
      "16  2007        2.6            2.38\n",
      "17  2008        1.4            1.16\n",
      "18  2009        1.8            1.32\n",
      "19  2010        2.1            2.35\n",
      "20  2011        0.7            2.30\n",
      "21  2012        3.1            0.83\n",
      "22  2013        2.5            1.24\n",
      "23  2014        0.8            1.47\n",
      "24  2015        1.6            1.61\n",
      "25  2016        2.0            1.50\n",
      "26  2017        1.5            1.87\n",
      "27  2018        1.8            1.99\n",
      "28  2019        1.8             NaN\n"
     ]
    }
   ],
   "source": [
    "Guidelines = pd.read_csv(\"Rent Increase Guidelines.csv\")\n",
    "print (Guidelines)"
   ]
  },
  {
   "cell_type": "code",
   "execution_count": 93,
   "metadata": {},
   "outputs": [
    {
     "name": "stdout",
     "output_type": "stream",
     "text": [
      "    Year  Inflation Rate\n",
      "0   1984            3.72\n",
      "1   1985            4.40\n",
      "2   1986            4.21\n",
      "3   1987            4.19\n",
      "4   1988            3.88\n",
      "5   1989            5.26\n",
      "6   1990            4.99\n",
      "7   1991            3.75\n",
      "8   1992            2.17\n",
      "9   1993            1.65\n",
      "10  1994            0.23\n",
      "11  1995            1.74\n",
      "12  1996            2.16\n",
      "13  1997            0.78\n",
      "14  1998            1.00\n",
      "15  1999            2.63\n",
      "16  2000            3.20\n",
      "17  2001            0.72\n",
      "18  2002            3.80\n",
      "19  2003            2.08\n",
      "20  2004            2.13\n",
      "21  2005            2.09\n",
      "22  2006            1.67\n",
      "23  2007            2.38\n",
      "24  2008            1.16\n",
      "25  2009            1.32\n",
      "26  2010            2.35\n",
      "27  2011            2.30\n",
      "28  2012            0.83\n",
      "29  2013            1.24\n",
      "30  2014            1.47\n",
      "31  2015            1.61\n",
      "32  2016            1.50\n",
      "33  2017            1.87\n",
      "34  2018            1.99\n"
     ]
    }
   ],
   "source": [
    "Inflation = pd.read_csv(\"Inflation Rate Canada.csv\")\n",
    "print(Inflation)\n"
   ]
  },
  {
   "cell_type": "code",
   "execution_count": null,
   "metadata": {},
   "outputs": [],
   "source": []
  },
  {
   "cell_type": "code",
   "execution_count": null,
   "metadata": {},
   "outputs": [],
   "source": []
  },
  {
   "cell_type": "code",
   "execution_count": null,
   "metadata": {},
   "outputs": [],
   "source": []
  }
 ],
 "metadata": {
  "kernelspec": {
   "display_name": "Python 3",
   "language": "python",
   "name": "python3"
  },
  "language_info": {
   "codemirror_mode": {
    "name": "ipython",
    "version": 3
   },
   "file_extension": ".py",
   "mimetype": "text/x-python",
   "name": "python",
   "nbconvert_exporter": "python",
   "pygments_lexer": "ipython3",
   "version": "3.6.5"
  }
 },
 "nbformat": 4,
 "nbformat_minor": 2
}
