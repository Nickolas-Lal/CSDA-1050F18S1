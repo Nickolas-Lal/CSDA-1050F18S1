{
 "cells": [
  {
   "cell_type": "markdown",
   "metadata": {},
   "source": [
    "CSDA 1050 Sprint 2\n",
    "\n",
    "Sprint 2 contains the modelling/analysis phase of the project and it continues from where Sprint 1 ended. At the start of the project the goal was to try to identify the marginal difference in rent price between tenured renters and new renters in Toronto, specifically looking at apartments. During the completion of the Sprint and project many gaps were identified, and this became increasingly more difficult. The Sprint contains an attempt at forecasting the average apartment rent price in Toronto. This can be very useful for prospective renters, landlords, and the City of Toronto. The code and rationale are in the notebook and the report.\n"
   ]
  },
  {
   "cell_type": "code",
   "execution_count": 16,
   "metadata": {
    "scrolled": true
   },
   "outputs": [],
   "source": [
    "# Loading Libraries\n",
    "import pandas as pd\n",
    "import numpy as np\n",
    "import matplotlib.pyplot as plt\n",
    "import seaborn as sns\n",
    "import geopandas as gpd\n",
    "from shapely.geometry import Point\n",
    "import numpy as np\n",
    "import xlrd\n",
    "from matplotlib import pyplot as plt"
   ]
  },
  {
   "cell_type": "code",
   "execution_count": 17,
   "metadata": {
    "scrolled": true
   },
   "outputs": [
    {
     "name": "stdout",
     "output_type": "stream",
     "text": [
      "C:\\Users\\nick\\Documents\\Certificate in Big Data Analytics and Certificate in Predictive Analytics\\Certificate in Predictive Analytics\\CSDA 1050\\Datasets\n"
     ]
    }
   ],
   "source": [
    "cd C:\\Users\\nick\\Documents\\Certificate in Big Data Analytics and Certificate in Predictive Analytics\\Certificate in Predictive Analytics\\CSDA 1050\\Datasets"
   ]
  },
  {
   "cell_type": "code",
   "execution_count": 18,
   "metadata": {
    "scrolled": true
   },
   "outputs": [
    {
     "data": {
      "text/html": [
       "<div>\n",
       "<style scoped>\n",
       "    .dataframe tbody tr th:only-of-type {\n",
       "        vertical-align: middle;\n",
       "    }\n",
       "\n",
       "    .dataframe tbody tr th {\n",
       "        vertical-align: top;\n",
       "    }\n",
       "\n",
       "    .dataframe thead th {\n",
       "        text-align: right;\n",
       "    }\n",
       "</style>\n",
       "<table border=\"1\" class=\"dataframe\">\n",
       "  <thead>\n",
       "    <tr style=\"text-align: right;\">\n",
       "      <th></th>\n",
       "      <th>Year</th>\n",
       "      <th>Bachelor</th>\n",
       "      <th>BachelorChange</th>\n",
       "      <th>OneBedroom</th>\n",
       "      <th>OneBedroomChange</th>\n",
       "      <th>TwoBedroom</th>\n",
       "      <th>TwoBedroomChange</th>\n",
       "      <th>ThreeBedroomPlus</th>\n",
       "      <th>ThreeBedroomChange</th>\n",
       "      <th>CityAverage</th>\n",
       "      <th>CityAverageChange</th>\n",
       "    </tr>\n",
       "  </thead>\n",
       "  <tbody>\n",
       "    <tr>\n",
       "      <th>0</th>\n",
       "      <td>2000</td>\n",
       "      <td>685</td>\n",
       "      <td>NaN</td>\n",
       "      <td>833</td>\n",
       "      <td>NaN</td>\n",
       "      <td>984</td>\n",
       "      <td>NaN</td>\n",
       "      <td>1186</td>\n",
       "      <td>NaN</td>\n",
       "      <td>907</td>\n",
       "      <td>7.50</td>\n",
       "    </tr>\n",
       "    <tr>\n",
       "      <th>1</th>\n",
       "      <td>2001</td>\n",
       "      <td>698</td>\n",
       "      <td>1.90</td>\n",
       "      <td>870</td>\n",
       "      <td>4.44</td>\n",
       "      <td>1039</td>\n",
       "      <td>5.59</td>\n",
       "      <td>1248</td>\n",
       "      <td>5.23</td>\n",
       "      <td>951</td>\n",
       "      <td>4.85</td>\n",
       "    </tr>\n",
       "    <tr>\n",
       "      <th>2</th>\n",
       "      <td>2002</td>\n",
       "      <td>733</td>\n",
       "      <td>5.01</td>\n",
       "      <td>894</td>\n",
       "      <td>2.76</td>\n",
       "      <td>1055</td>\n",
       "      <td>1.54</td>\n",
       "      <td>1279</td>\n",
       "      <td>2.48</td>\n",
       "      <td>976</td>\n",
       "      <td>2.63</td>\n",
       "    </tr>\n",
       "    <tr>\n",
       "      <th>3</th>\n",
       "      <td>2003</td>\n",
       "      <td>734</td>\n",
       "      <td>0.14</td>\n",
       "      <td>884</td>\n",
       "      <td>-1.12</td>\n",
       "      <td>1045</td>\n",
       "      <td>-0.95</td>\n",
       "      <td>1225</td>\n",
       "      <td>-4.22</td>\n",
       "      <td>961</td>\n",
       "      <td>-1.54</td>\n",
       "    </tr>\n",
       "    <tr>\n",
       "      <th>4</th>\n",
       "      <td>2004</td>\n",
       "      <td>730</td>\n",
       "      <td>-0.54</td>\n",
       "      <td>888</td>\n",
       "      <td>0.45</td>\n",
       "      <td>1061</td>\n",
       "      <td>1.53</td>\n",
       "      <td>1263</td>\n",
       "      <td>3.10</td>\n",
       "      <td>973</td>\n",
       "      <td>1.25</td>\n",
       "    </tr>\n",
       "  </tbody>\n",
       "</table>\n",
       "</div>"
      ],
      "text/plain": [
       "   Year  Bachelor  BachelorChange  OneBedroom  OneBedroomChange  TwoBedroom  \\\n",
       "0  2000       685             NaN         833               NaN         984   \n",
       "1  2001       698            1.90         870              4.44        1039   \n",
       "2  2002       733            5.01         894              2.76        1055   \n",
       "3  2003       734            0.14         884             -1.12        1045   \n",
       "4  2004       730           -0.54         888              0.45        1061   \n",
       "\n",
       "   TwoBedroomChange  ThreeBedroomPlus  ThreeBedroomChange  CityAverage  \\\n",
       "0               NaN              1186                 NaN          907   \n",
       "1              5.59              1248                5.23          951   \n",
       "2              1.54              1279                2.48          976   \n",
       "3             -0.95              1225               -4.22          961   \n",
       "4              1.53              1263                3.10          973   \n",
       "\n",
       "   CityAverageChange  \n",
       "0               7.50  \n",
       "1               4.85  \n",
       "2               2.63  \n",
       "3              -1.54  \n",
       "4               1.25  "
      ]
     },
     "execution_count": 18,
     "metadata": {},
     "output_type": "execute_result"
    }
   ],
   "source": [
    "#Loading the datasets\n",
    "TorontoRent = pd.read_csv(\"Toronto Average Rent Prices.csv\")\n",
    "TorontoRent.head(5)"
   ]
  },
  {
   "cell_type": "code",
   "execution_count": 19,
   "metadata": {
    "scrolled": true
   },
   "outputs": [
    {
     "name": "stdout",
     "output_type": "stream",
     "text": [
      "HouseholdIncome\n"
     ]
    },
    {
     "data": {
      "text/html": [
       "<div>\n",
       "<style scoped>\n",
       "    .dataframe tbody tr th:only-of-type {\n",
       "        vertical-align: middle;\n",
       "    }\n",
       "\n",
       "    .dataframe tbody tr th {\n",
       "        vertical-align: top;\n",
       "    }\n",
       "\n",
       "    .dataframe thead th {\n",
       "        text-align: right;\n",
       "    }\n",
       "</style>\n",
       "<table border=\"1\" class=\"dataframe\">\n",
       "  <thead>\n",
       "    <tr style=\"text-align: right;\">\n",
       "      <th></th>\n",
       "      <th>spatial_id</th>\n",
       "      <th>name</th>\n",
       "      <th>VALUE0</th>\n",
       "      <th>geometry</th>\n",
       "    </tr>\n",
       "  </thead>\n",
       "  <tbody>\n",
       "    <tr>\n",
       "      <th>0</th>\n",
       "      <td>3520005</td>\n",
       "      <td>Toronto, ON (CSD)</td>\n",
       "      <td>51415.0</td>\n",
       "      <td>POLYGON ((-79.1520235957221 43.81438746510226,...</td>\n",
       "    </tr>\n",
       "  </tbody>\n",
       "</table>\n",
       "</div>"
      ],
      "text/plain": [
       "  spatial_id               name   VALUE0  \\\n",
       "0    3520005  Toronto, ON (CSD)  51415.0   \n",
       "\n",
       "                                            geometry  \n",
       "0  POLYGON ((-79.1520235957221 43.81438746510226,...  "
      ]
     },
     "execution_count": 19,
     "metadata": {},
     "output_type": "execute_result"
    }
   ],
   "source": [
    "HouseholdIncome = gpd.read_file(\"Household Income.shp\")\n",
    "print(\"HouseholdIncome\")\n",
    "HouseholdIncome.head(5)"
   ]
  },
  {
   "cell_type": "code",
   "execution_count": 20,
   "metadata": {
    "scrolled": true
   },
   "outputs": [
    {
     "data": {
      "text/html": [
       "<div>\n",
       "<style scoped>\n",
       "    .dataframe tbody tr th:only-of-type {\n",
       "        vertical-align: middle;\n",
       "    }\n",
       "\n",
       "    .dataframe tbody tr th {\n",
       "        vertical-align: top;\n",
       "    }\n",
       "\n",
       "    .dataframe thead th {\n",
       "        text-align: right;\n",
       "    }\n",
       "</style>\n",
       "<table border=\"1\" class=\"dataframe\">\n",
       "  <thead>\n",
       "    <tr style=\"text-align: right;\">\n",
       "      <th></th>\n",
       "      <th>Year</th>\n",
       "      <th>Age group</th>\n",
       "      <th>UOM</th>\n",
       "      <th>Average Income</th>\n",
       "      <th>Median Income</th>\n",
       "    </tr>\n",
       "  </thead>\n",
       "  <tbody>\n",
       "    <tr>\n",
       "      <th>0</th>\n",
       "      <td>2013</td>\n",
       "      <td>16 years and over</td>\n",
       "      <td>2017 constant dollars</td>\n",
       "      <td>$44,900.00</td>\n",
       "      <td>$30,900.00</td>\n",
       "    </tr>\n",
       "    <tr>\n",
       "      <th>1</th>\n",
       "      <td>2014</td>\n",
       "      <td>16 years and over</td>\n",
       "      <td>2017 constant dollars</td>\n",
       "      <td>$45,700.00</td>\n",
       "      <td>$31,600.00</td>\n",
       "    </tr>\n",
       "    <tr>\n",
       "      <th>2</th>\n",
       "      <td>2015</td>\n",
       "      <td>16 years and over</td>\n",
       "      <td>2017 constant dollars</td>\n",
       "      <td>$46,100.00</td>\n",
       "      <td>$30,500.00</td>\n",
       "    </tr>\n",
       "    <tr>\n",
       "      <th>3</th>\n",
       "      <td>2016</td>\n",
       "      <td>16 years and over</td>\n",
       "      <td>2017 constant dollars</td>\n",
       "      <td>$47,600.00</td>\n",
       "      <td>$31,500.00</td>\n",
       "    </tr>\n",
       "    <tr>\n",
       "      <th>4</th>\n",
       "      <td>2017</td>\n",
       "      <td>16 years and over</td>\n",
       "      <td>2017 constant dollars</td>\n",
       "      <td>$48,500.00</td>\n",
       "      <td>$33,600.00</td>\n",
       "    </tr>\n",
       "  </tbody>\n",
       "</table>\n",
       "</div>"
      ],
      "text/plain": [
       "   Year          Age group                    UOM Average Income Median Income\n",
       "0  2013  16 years and over  2017 constant dollars    $44,900.00    $30,900.00 \n",
       "1  2014  16 years and over  2017 constant dollars    $45,700.00    $31,600.00 \n",
       "2  2015  16 years and over  2017 constant dollars    $46,100.00    $30,500.00 \n",
       "3  2016  16 years and over  2017 constant dollars    $47,600.00    $31,500.00 \n",
       "4  2017  16 years and over  2017 constant dollars    $48,500.00    $33,600.00 "
      ]
     },
     "execution_count": 20,
     "metadata": {},
     "output_type": "execute_result"
    }
   ],
   "source": [
    "Income = pd.read_csv(\"Toronto Income.csv\")\n",
    "Income.head(5)"
   ]
  },
  {
   "cell_type": "code",
   "execution_count": 21,
   "metadata": {
    "scrolled": true
   },
   "outputs": [
    {
     "data": {
      "text/html": [
       "<div>\n",
       "<style scoped>\n",
       "    .dataframe tbody tr th:only-of-type {\n",
       "        vertical-align: middle;\n",
       "    }\n",
       "\n",
       "    .dataframe tbody tr th {\n",
       "        vertical-align: top;\n",
       "    }\n",
       "\n",
       "    .dataframe thead th {\n",
       "        text-align: right;\n",
       "    }\n",
       "</style>\n",
       "<table border=\"1\" class=\"dataframe\">\n",
       "  <thead>\n",
       "    <tr style=\"text-align: right;\">\n",
       "      <th></th>\n",
       "      <th>Year</th>\n",
       "      <th>Guideline</th>\n",
       "      <th>InflationRate</th>\n",
       "      <th>Difference</th>\n",
       "    </tr>\n",
       "  </thead>\n",
       "  <tbody>\n",
       "    <tr>\n",
       "      <th>0</th>\n",
       "      <td>1991</td>\n",
       "      <td>5.4</td>\n",
       "      <td>3.75</td>\n",
       "      <td>1.65</td>\n",
       "    </tr>\n",
       "    <tr>\n",
       "      <th>1</th>\n",
       "      <td>1992</td>\n",
       "      <td>6.0</td>\n",
       "      <td>2.17</td>\n",
       "      <td>3.83</td>\n",
       "    </tr>\n",
       "    <tr>\n",
       "      <th>2</th>\n",
       "      <td>1993</td>\n",
       "      <td>4.9</td>\n",
       "      <td>1.65</td>\n",
       "      <td>3.25</td>\n",
       "    </tr>\n",
       "    <tr>\n",
       "      <th>3</th>\n",
       "      <td>1994</td>\n",
       "      <td>3.2</td>\n",
       "      <td>0.23</td>\n",
       "      <td>2.97</td>\n",
       "    </tr>\n",
       "    <tr>\n",
       "      <th>4</th>\n",
       "      <td>1995</td>\n",
       "      <td>2.9</td>\n",
       "      <td>1.74</td>\n",
       "      <td>1.16</td>\n",
       "    </tr>\n",
       "  </tbody>\n",
       "</table>\n",
       "</div>"
      ],
      "text/plain": [
       "   Year  Guideline  InflationRate  Difference\n",
       "0  1991        5.4           3.75        1.65\n",
       "1  1992        6.0           2.17        3.83\n",
       "2  1993        4.9           1.65        3.25\n",
       "3  1994        3.2           0.23        2.97\n",
       "4  1995        2.9           1.74        1.16"
      ]
     },
     "execution_count": 21,
     "metadata": {},
     "output_type": "execute_result"
    }
   ],
   "source": [
    "Guidelines = pd.read_csv(\"Rent Increase Guidelines.csv\")\n",
    "Guidelines.head(5)"
   ]
  },
  {
   "cell_type": "code",
   "execution_count": 22,
   "metadata": {
    "scrolled": true
   },
   "outputs": [
    {
     "data": {
      "text/html": [
       "<div>\n",
       "<style scoped>\n",
       "    .dataframe tbody tr th:only-of-type {\n",
       "        vertical-align: middle;\n",
       "    }\n",
       "\n",
       "    .dataframe tbody tr th {\n",
       "        vertical-align: top;\n",
       "    }\n",
       "\n",
       "    .dataframe thead th {\n",
       "        text-align: right;\n",
       "    }\n",
       "</style>\n",
       "<table border=\"1\" class=\"dataframe\">\n",
       "  <thead>\n",
       "    <tr style=\"text-align: right;\">\n",
       "      <th></th>\n",
       "      <th>Year</th>\n",
       "      <th>Inflation Rate</th>\n",
       "    </tr>\n",
       "  </thead>\n",
       "  <tbody>\n",
       "    <tr>\n",
       "      <th>0</th>\n",
       "      <td>1984</td>\n",
       "      <td>3.72</td>\n",
       "    </tr>\n",
       "    <tr>\n",
       "      <th>1</th>\n",
       "      <td>1985</td>\n",
       "      <td>4.40</td>\n",
       "    </tr>\n",
       "    <tr>\n",
       "      <th>2</th>\n",
       "      <td>1986</td>\n",
       "      <td>4.21</td>\n",
       "    </tr>\n",
       "    <tr>\n",
       "      <th>3</th>\n",
       "      <td>1987</td>\n",
       "      <td>4.19</td>\n",
       "    </tr>\n",
       "    <tr>\n",
       "      <th>4</th>\n",
       "      <td>1988</td>\n",
       "      <td>3.88</td>\n",
       "    </tr>\n",
       "  </tbody>\n",
       "</table>\n",
       "</div>"
      ],
      "text/plain": [
       "   Year  Inflation Rate\n",
       "0  1984            3.72\n",
       "1  1985            4.40\n",
       "2  1986            4.21\n",
       "3  1987            4.19\n",
       "4  1988            3.88"
      ]
     },
     "execution_count": 22,
     "metadata": {},
     "output_type": "execute_result"
    }
   ],
   "source": [
    "CPI = pd.read_csv(\"Inflation Rate Canada.csv\")\n",
    "CPI.head(5)"
   ]
  },
  {
   "cell_type": "code",
   "execution_count": 23,
   "metadata": {
    "scrolled": true
   },
   "outputs": [],
   "source": [
    "#Lets try to forecast future average price using ARIMA\n",
    "import pandas as pd\n",
    "from matplotlib import pyplot\n",
    "import statsmodels as sm\n",
    "from statsmodels.tsa.stattools import adfuller\n",
    "from statsmodels.graphics.tsaplots import plot_acf, plot_pacf\n",
    "from statsmodels.tsa.arima_model import ARIMA\n",
    "from sklearn.linear_model import LinearRegression"
   ]
  },
  {
   "cell_type": "code",
   "execution_count": 24,
   "metadata": {},
   "outputs": [
    {
     "name": "stdout",
     "output_type": "stream",
     "text": [
      "      CityAverage\n",
      "Year             \n",
      "2000          907\n",
      "2001          951\n",
      "2002          976\n",
      "2003          961\n",
      "2004          973\n",
      "2005          977\n",
      "2006          995\n",
      "2007          991\n",
      "2008         1018\n",
      "2009         1014\n",
      "2010         1046\n",
      "2011         1072\n",
      "2012         1108\n",
      "2013         1139\n",
      "2014         1170\n",
      "2015         1211\n",
      "2016         1241\n",
      "2017         1308\n",
      "Int64Index([2000, 2001, 2002, 2003, 2004, 2005, 2006, 2007, 2008, 2009, 2010,\n",
      "            2011, 2012, 2013, 2014, 2015, 2016, 2017],\n",
      "           dtype='int64', name='Year')\n"
     ]
    }
   ],
   "source": [
    "    #Create new subset for only year and City Average price\n",
    "\n",
    "TorontoRentSubset = pd.read_csv(\"Toronto Average Rent Prices.csv\",\n",
    "                                index_col=0)\n",
    "TorontoRentSubset = TorontoRentSubset.drop([\"Bachelor\",\"BachelorChange\",\"OneBedroom\",\"OneBedroomChange\",\"TwoBedroom\",\"TwoBedroomChange\",\"ThreeBedroomPlus\",\"ThreeBedroomChange\",\"CityAverageChange\"], axis=1)\n",
    "#View subset and index\n",
    "print(TorontoRentSubset)\n",
    "print(TorontoRentSubset.index)"
   ]
  },
  {
   "cell_type": "code",
   "execution_count": 25,
   "metadata": {
    "scrolled": true
   },
   "outputs": [
    {
     "data": {
      "image/png": "[encoded data removed]",
      "text/plain": [
       "<Figure size 432x288 with 1 Axes>"
      ]
     },
     "metadata": {},
     "output_type": "display_data"
    }
   ],
   "source": [
    "#Plotting the Average Rent Price, we can see a general upward trend\n",
    "plt.plot(TorontoRent.Year,TorontoRent.CityAverage)\n",
    "plt.xlabel(\"Year\")\n",
    "plt.ylabel(\"Price\")\n",
    "plt.title(\"Average Rent Price\")\n",
    "plt.show()"
   ]
  },
  {
   "cell_type": "code",
   "execution_count": 26,
   "metadata": {},
   "outputs": [
    {
     "data": {
      "image/png": "[encoded data removed]",
      "text/plain": [
       "<Figure size 432x288 with 1 Axes>"
      ]
     },
     "metadata": {},
     "output_type": "display_data"
    },
    {
     "data": {
      "image/png": "[encoded data removed]",
      "text/plain": [
       "<Figure size 432x288 with 1 Axes>"
      ]
     },
     "metadata": {},
     "output_type": "display_data"
    }
   ],
   "source": [
    "#Detrend by Model Fitting using  linear model\n",
    "\n",
    "X = [i for i in range(0, len(TorontoRentSubset))]\n",
    "X = np.reshape(X, (len(X), 1))\n",
    "y = TorontoRentSubset.values\n",
    "model = LinearRegression()\n",
    "model.fit(X, y)\n",
    "# calculate trend\n",
    "trend = model.predict(X)\n",
    "# plot trend\n",
    "pyplot.plot(y)\n",
    "pyplot.plot(trend)\n",
    "pyplot.show()\n",
    "# detrend\n",
    "detrended = [y[i]-trend[i] for i in range(0, len(TorontoRentSubset))]\n",
    "# plot detrended\n",
    "pyplot.plot(detrended)\n",
    "pyplot.show()"
   ]
  },
  {
   "cell_type": "code",
   "execution_count": 27,
   "metadata": {},
   "outputs": [
    {
     "name": "stderr",
     "output_type": "stream",
     "text": [
      "C:\\Users\\nick\\Anaconda3\\lib\\site-packages\\statsmodels\\regression\\linear_model.py:1283: RuntimeWarning: invalid value encountered in sqrt\n",
      "  return rho, np.sqrt(sigmasq)\n"
     ]
    },
    {
     "data": {
      "image/png": "[encoded data removed]",
      "text/plain": [
       "<Figure size 432x288 with 1 Axes>"
      ]
     },
     "metadata": {},
     "output_type": "display_data"
    },
    {
     "data": {
      "image/png": "[encoded data removed]",
      "text/plain": [
       "<Figure size 432x288 with 1 Axes>"
      ]
     },
     "metadata": {},
     "output_type": "display_data"
    }
   ],
   "source": [
    "# plot ACF and PACF with 95% confidence interval\n",
    "plot_acf(detrended)\n",
    "plot_pacf(detrended)\n",
    "pyplot.show()"
   ]
  },
  {
   "cell_type": "code",
   "execution_count": 28,
   "metadata": {
    "scrolled": false
   },
   "outputs": [
    {
     "name": "stdout",
     "output_type": "stream",
     "text": [
      "Actual=1108.000000, Predicted=1079.699218\n",
      "Actual=1139.000000, Predicted=1116.656325\n",
      "Actual=1170.000000, Predicted=1161.014917\n",
      "Actual=1211.000000, Predicted=1189.456927\n",
      "Actual=1241.000000, Predicted=1239.477368\n",
      "Actual=1308.000000, Predicted=1270.205296\n",
      "Test Mean Squared Error: 545.961\n"
     ]
    },
    {
     "data": {
      "image/png": "[encoded data removed]",
      "text/plain": [
       "<Figure size 432x288 with 1 Axes>"
      ]
     },
     "metadata": {},
     "output_type": "display_data"
    }
   ],
   "source": [
    "from pandas import read_csv\n",
    "from matplotlib import pyplot\n",
    "from statsmodels.tsa.arima_model import ARIMA\n",
    "from sklearn.metrics import mean_squared_error\n",
    "\n",
    "#Create and use new subset csv file for only year and City Average price\n",
    "def GetData(fileName):\n",
    "    return read_csv(fileName, header=0,  index_col=0).values\n",
    "\n",
    "#Function that calls ARIMA model to fit and forecast the data\n",
    "def StartARIMAForecasting(Actual, P, D, Q):\n",
    "\tmodel = ARIMA(Actual, order=(P, D, Q))\n",
    "\tmodel_fit = model.fit(disp=0)\n",
    "\tprediction = model_fit.forecast()[0]\n",
    "\treturn prediction\n",
    "    \n",
    "#Get Data\n",
    "ActualData = GetData('TorontoRentSubset.csv')\n",
    "NumberOfElements = len(ActualData)\n",
    "\n",
    "#Use 70% of data as training, 30% to Test model\n",
    "TrainingSize = int(NumberOfElements * 0.7)\n",
    "TrainingData = ActualData[0:TrainingSize]\n",
    "TestData = ActualData[TrainingSize:NumberOfElements]\n",
    "\n",
    "#Create new arrays to store actual and predictions\n",
    "Actual = [x for x in TrainingData]\n",
    "Predictions = list()\n",
    "\n",
    "\n",
    "#Predict values using ARIMA model\n",
    "for timepoint in range(len(TestData)):\n",
    "\tActualValue =  TestData[timepoint]\n",
    "\t#forcast value\n",
    "\tPrediction = StartARIMAForecasting(Actual, 3,1,0)    \n",
    "\tprint('Actual=%f, Predicted=%f' % (ActualValue, Prediction))\n",
    "\t#add it in the list\n",
    "\tPredictions.append(Prediction)\n",
    "\tActual.append(ActualValue)\n",
    "\n",
    "#Print MSE to see how good the model is\n",
    "Error = mean_squared_error(TestData, Predictions)\n",
    "print('Test Mean Squared Error: %.3f' % Error)\n",
    "\n",
    "# plot with predictions in red, actual in blue\n",
    "pyplot.plot(TestData)\n",
    "pyplot.plot(Predictions, color='red')\n",
    "pyplot.show()"
   ]
  },
  {
   "cell_type": "markdown",
   "metadata": {},
   "source": [
    "We can see the MSE is 545.96 dollars meaning the model is over or under estimating the average rent price by 545.96 dollars.\n",
    "This model is not the best as that is too large a number and should be be improved before it is used.\n",
    "-Perhaps there are staionary issues and the model is not fully stationary and needs to be better transformed, maybe stabilizing the variance, this can all be tested\n",
    "-Perhaps multiple models with different AR and MA terms\n",
    "-Perhaps other modelling techniques\n",
    "-Perhaps more/better data\n",
    "\n",
    "Although ARIMA does not consider economical and political conditions, or correlations of all factors related to rent prices perhaps after the example above is cleaned up it can be useful for forecasting the average apartment rent price in Toronto."
   ]
  },
  {
   "cell_type": "code",
   "execution_count": null,
   "metadata": {},
   "outputs": [],
   "source": []
  }
 ],
 "metadata": {
  "kernelspec": {
   "display_name": "Python 3",
   "language": "python",
   "name": "python3"
  },
  "language_info": {
   "codemirror_mode": {
    "name": "ipython",
    "version": 3
   },
   "file_extension": ".py",
   "mimetype": "text/x-python",
   "name": "python",
   "nbconvert_exporter": "python",
   "pygments_lexer": "ipython3",
   "version": "3.6.5"
  }
 },
 "nbformat": 4,
 "nbformat_minor": 2
}
